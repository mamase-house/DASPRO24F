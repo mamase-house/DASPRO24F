{
 "cells": [
  {
   "cell_type": "code",
   "execution_count": 5,
   "id": "fda0ea51-b709-4522-82ea-a0d1dc98b131",
   "metadata": {},
   "outputs": [
    {
     "name": "stdin",
     "output_type": "stream",
     "text": [
      "masukan usia anda :  30\n"
     ]
    },
    {
     "name": "stdout",
     "output_type": "stream",
     "text": [
      "katagori : dewaasa\n"
     ]
    }
   ],
   "source": [
    "\n",
    "usia = int(input(\"masukan usia anda : \"))\n",
    "\n",
    "if usia >= 0:\n",
    "    if usia <=12:\n",
    "        print(\"kata gori :anak\")\n",
    "    elif usia <=17:\n",
    "        print(\"katagori : remaja\")\n",
    "    elif usia <=59:\n",
    "        print(\"katagori : dewaasa\")\n",
    "    else:\n",
    "        print(\"lansia\")\n",
    "else:\n",
    "    print(\"anda belum lahir\")"
   ]
  },
  {
   "cell_type": "code",
   "execution_count": 9,
   "id": "34e8b028-752d-4593-88ba-45f4271f0f79",
   "metadata": {},
   "outputs": [
    {
     "name": "stdin",
     "output_type": "stream",
     "text": [
      "isikan umur anda  20\n",
      "isikan umur anda  90\n",
      "isikan umur anda  34\n"
     ]
    },
    {
     "name": "stdout",
     "output_type": "stream",
     "text": [
      "tiket1 = 25.000\n",
      "tiket2: gratis\n",
      "tiket3 = 25.000\n",
      "total biaya menjadi:50000\n"
     ]
    }
   ],
   "source": [
    "tiket1 = int(input(\"isikan umur anda \"))\n",
    "tiket2 = int(input(\"isikan umur anda \"))\n",
    "tiket3 = int(input(\"isikan umur anda \"))\n",
    "\n",
    "\n",
    "totalBiaya = 0\n",
    "if tiket1 <=13:\n",
    "    print(\"tiket1 :10.000\")\n",
    "    totalBiaya =totalBiaya + 10000\n",
    "elif tiket1 <=18:\n",
    "    print(\"tiket1 : 15.000\")\n",
    "    totalBiaya =totalBiaya + 15000\n",
    "elif tiket1 <=59:\n",
    "    print(\"tiket1 = 25.000\")\n",
    "    totalBiaya =totalBiaya + 25000\n",
    "else:\n",
    "    print(\"tiket1: gratis\")\n",
    "############################################################################################\n",
    "if tiket2 <=13:\n",
    "    print(\"tiket2 :10.000\")\n",
    "    totalBiaya =totalBiaya + 10000\n",
    "elif tiket2 <=18:\n",
    "    print(\"tiket2 : 15.000\")\n",
    "    totalBiaya =totalBiaya + 15000\n",
    "elif tiket2 <=59:\n",
    "    print(\"tiket2 = 25.000\")\n",
    "    totalBiaya =totalBiaya + 25000\n",
    "else:\n",
    "    print(\"tiket2: gratis\")\n",
    "\n",
    "############################################################################################\n",
    "if tiket3 <=13:\n",
    "    print(\"tiket3 :10.000\")\n",
    "    totalBiaya =totalBiaya + 10000\n",
    "elif tiket3 <=18:\n",
    "    print(\"tiket3 : 15.000\")\n",
    "    totalBiaya =totalBiaya + 15000\n",
    "elif tiket3 <=59:\n",
    "    print(\"tiket3 = 25.000\")\n",
    "    totalBiaya =totalBiaya + 25000\n",
    "else:\n",
    "    print(\"tiket3: gratis\")\n",
    "        \n",
    "print(f\"total biaya menjadi:{totalBiaya}\")\n",
    "\n",
    "\n",
    "\n",
    "\n"
   ]
  },
  {
   "cell_type": "code",
   "execution_count": 13,
   "id": "6c9437a8-2186-4b2f-b1f6-3d885c972eb7",
   "metadata": {},
   "outputs": [
    {
     "name": "stdin",
     "output_type": "stream",
     "text": [
      "isikan motor/mobil: motor\n",
      "jam masuk: 3\n",
      "jam keluar: 7\n"
     ]
    },
    {
     "name": "stdout",
     "output_type": "stream",
     "text": [
      "tarif motor : 200\n",
      "lama parkir:4jam\n",
      "tarif parkir:800\n"
     ]
    }
   ],
   "source": [
    "jeniskendaraan = input (\"isikan motor/mobil:\")\n",
    "jamMasuk = int(input(\"jam masuk:\"))\n",
    "jamKeluar = int(input(\"jam keluar:\"))\n",
    "\n",
    "tarifperjam = 0 \n",
    "if jeniskendaraan == \"motor\":\n",
    "    tarifperjam = 200 \n",
    "elif jeniskendaraan == \"mobil\":\n",
    "    tarifperjam = 5000\n",
    "else:\n",
    "    print(\"tidak menerima kapal atau pesawat\")   \n",
    "    \n",
    "if jamMasuk >= jamKeluar:\n",
    "    print(\"jam masuk atau keluar salah\")\n",
    "else:\n",
    "    totaltarif = (jamKeluar -jamMasuk)*tarifperjam\n",
    "    \n",
    "print(f\"tarif {jeniskendaraan} : {tarifperjam}\")            \n",
    "print(f\"lama parkir:{jamKeluar-jamMasuk}jam\") \n",
    "\n",
    "if jamKeluar - jamMasuk > 5:\n",
    "    totaltarif += 10000\n",
    "    print(\"tambahan biaya lebih dari 5 jam: 10000\")       \n",
    "print(f\"tarif parkir:{totaltarif}\")        \n",
    "    \n",
    "         \n",
    "    "
   ]
  },
  {
   "cell_type": "code",
   "execution_count": null,
   "id": "0071846d-b2d5-4c09-bab5-a8b927b36a1d",
   "metadata": {},
   "outputs": [],
   "source": [
    "nomorpunggung = int(input(\"nomor punggung : \"))\n",
    "posisi = \"\"\n",
    "if nomorpunggung % 2 == 0:\n",
    "    posisi += \"attacker\"\n",
    "    if nomorpunggung >=50 and nomorpunggung <=100:\n",
    "        posisi += \"berhak dipilih menjadi kapten\"\n",
    "        \n",
    "else:\n",
    "    posisi += \"devender\"\n",
    "    if nomorpunggung > 90:\n",
    "        posisi += \"playmaker\"\n",
    "    if nomorpunggung % 3 == 0 and nomorpunggung % 5 == 0 :\n",
    "        posisi += \"keeper\"\n",
    "print(f\"kamu mempunyai pilihan posisi :{posisi}\")        \n",
    "\n",
    "        \n",
    "\n"
   ]
  },
  {
   "cell_type": "code",
   "execution_count": null,
   "id": "24f75616-13ba-4a93-a0fd-43fc7d79b368",
   "metadata": {},
   "outputs": [],
   "source": [
    "nilaiCoding = int(input(\"Masukkan nilai coding (0-100): \"))\n",
    "nilaiInterview = input(\"Masukkan nilai interview (A/B/C/dll): \").upper()\n",
    "\n",
    "if nilaiCoding > 80:\n",
    "    hasilCoding = \"LOLOS\"\n",
    "elif 60 <= nilaiCoding <= 80:\n",
    "    hasilCoding = \"DIPERTIMBANGKAN\"\n",
    "else:\n",
    "    hasilCoding = \"GAGAL\"\n",
    "\n",
    "if nilaiInterview == \"A\" or nilaiInterview == \"B\":\n",
    "    hasilInterview = \"LOLOS\"\n",
    "else:\n",
    "    hasilInterview = \"GAGAL\"\n",
    "\n",
    "if (hasilCoding == \"LOLOS\" or hasilCoding == \"DIPERTIMBANGKAN\") and hasilInterview == \"LOLOS\":\n",
    "    print(\"Selamat Kamu Berhasil Menjadi Calon Programmer\")\n",
    "else:\n",
    "    print(\"Maaf Kamu Belum Berhasil Menjadi Calon Programmer\")"
   ]
  }
 ],
 "metadata": {
  "kernelspec": {
   "display_name": "Python [conda env:base] *",
   "language": "python",
   "name": "conda-base-py"
  },
  "language_info": {
   "codemirror_mode": {
    "name": "ipython",
    "version": 3
   },
   "file_extension": ".py",
   "mimetype": "text/x-python",
   "name": "python",
   "nbconvert_exporter": "python",
   "pygments_lexer": "ipython3",
   "version": "3.12.7"
  }
 },
 "nbformat": 4,
 "nbformat_minor": 5
}
