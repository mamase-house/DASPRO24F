{
 "cells": [
  {
   "cell_type": "code",
   "execution_count": 1,
   "id": "3aa6f352-0f09-419e-a568-b8f7a4275a70",
   "metadata": {},
   "outputs": [
    {
     "name": "stdout",
     "output_type": "stream",
     "text": [
      "nama saya bintang\n"
     ]
    }
   ],
   "source": [
    "print(\"nama saya bintang\")"
   ]
  },
  {
   "cell_type": "code",
   "execution_count": 3,
   "id": "794d45c6-89d1-417b-914d-a9fcc8fb8d48",
   "metadata": {},
   "outputs": [
    {
     "name": "stdout",
     "output_type": "stream",
     "text": [
      "nama sayabintang dan umur saya 17 tahun\n"
     ]
    }
   ],
   "source": [
    "nama = \"bintang\"\n",
    "umur = 17\n",
    "print(f\"nama saya{nama} dan umur saya {umur} tahun\")"
   ]
  },
  {
   "cell_type": "code",
   "execution_count": 7,
   "id": "3460b7c8-d806-4d70-9b5a-9356bf29d962",
   "metadata": {},
   "outputs": [
    {
     "name": "stdout",
     "output_type": "stream",
     "text": [
      "bintang java\n"
     ]
    }
   ],
   "source": [
    "kata1 =\"bintang\"\n",
    "kata2 =\"java\"\n",
    "kalimat = \" \" .join ([kata1,kata2])\n",
    "print (kalimat)"
   ]
  },
  {
   "cell_type": "code",
   "execution_count": 13,
   "id": "e61592af-4337-46eb-ade0-44b05d683f04",
   "metadata": {},
   "outputs": [
    {
     "name": "stdout",
     "output_type": "stream",
     "text": [
      " ini adalah \n",
      "contih string dengan beberapa baris.\n"
     ]
    }
   ],
   "source": [
    "pesan = \"\"\" ini adalah \n",
    "contih string dengan beberapa baris.\"\"\"\n",
    "print(pesan)"
   ]
  },
  {
   "cell_type": "code",
   "execution_count": 17,
   "id": "07ed489f-29db-46c8-909c-af3659c85c46",
   "metadata": {},
   "outputs": [
    {
     "name": "stdout",
     "output_type": "stream",
     "text": [
      "ini adalah baris pertama.\n",
      "Ini adalah baris ke dua\n"
     ]
    }
   ],
   "source": [
    "print(\"ini adalah baris pertama.\\nIni adalah baris ke dua\")\n",
    "print:(\"nama saya \\\"andi\\\".\")"
   ]
  },
  {
   "cell_type": "code",
   "execution_count": 1,
   "id": "1943922e-393c-4ca9-b3f6-e445c8d33617",
   "metadata": {},
   "outputs": [
    {
     "name": "stdout",
     "output_type": "stream",
     "text": [
      "gabungkan: bintang java riau\n"
     ]
    }
   ],
   "source": [
    "#fungsi join untuk membuat list menyatu dengan string \n",
    "string1 = [\"bintang\",\"java\",\"riau\"]\n",
    "hasil1 = \" \".join(string1)\n",
    "print(\"gabungkan:\",hasil1)"
   ]
  },
  {
   "cell_type": "code",
   "execution_count": 3,
   "id": "db13fb22-e8ff-4029-899b-2264df8ba5f6",
   "metadata": {},
   "outputs": [
    {
     "name": "stdout",
     "output_type": "stream",
     "text": [
      "hasil; buah\n"
     ]
    }
   ],
   "source": [
    "string = \"buah\"\n",
    "hasil = string.lower()\n",
    "print(\"hasil;\",hasil)"
   ]
  },
  {
   "cell_type": "code",
   "execution_count": 5,
   "id": "97499b89-03a1-4bad-afb8-93f9e65fd6e1",
   "metadata": {},
   "outputs": [
    {
     "name": "stdout",
     "output_type": "stream",
     "text": [
      "hasil; UDUD\n"
     ]
    }
   ],
   "source": [
    "string = \"udud\"\n",
    "hasil = string.upper()\n",
    "print(\"hasil;\",hasil)"
   ]
  },
  {
   "cell_type": "code",
   "execution_count": 9,
   "id": "7a4a2143-13e3-47f5-a9f0-9052e17c21a2",
   "metadata": {},
   "outputs": [
    {
     "name": "stdout",
     "output_type": "stream",
     "text": [
      "hasil: sololeveling\n"
     ]
    }
   ],
   "source": [
    "string =\"     sololeveling      \"\n",
    "hasil =string.strip()\n",
    "print(\"hasil:\",hasil)"
   ]
  },
  {
   "cell_type": "code",
   "execution_count": 13,
   "id": "5a72890a-d351-4e66-bdec-9c751c42dc1b",
   "metadata": {},
   "outputs": [
    {
     "name": "stdout",
     "output_type": "stream",
     "text": [
      "hasil:       rimuru sololeveling      \n"
     ]
    }
   ],
   "source": [
    "string =\"     aku suka nononton sololeveling      \"\n",
    "hasil =string.replace(\"aku suka nononton\",\" rimuru\")\n",
    "print(\"hasil:\",hasil)"
   ]
  },
  {
   "cell_type": "code",
   "execution_count": 15,
   "id": "6873eb75-07be-453c-ae0b-799471ff0d8e",
   "metadata": {},
   "outputs": [
    {
     "name": "stdout",
     "output_type": "stream",
     "text": [
      "string dimulai dengan 'www' \n",
      "string di akhiri dengan '.com' \n"
     ]
    }
   ],
   "source": [
    "string = \"www.instagram.com\"\n",
    "if string.startswith(\"www\"):\n",
    "    print(\"string dimulai dengan 'www' \")\n",
    "\n",
    "if string.endswith(\".com\"):\n",
    "    print(\"string di akhiri dengan '.com' \" )"
   ]
  },
  {
   "cell_type": "code",
   "execution_count": 21,
   "id": "aa0b4994-e978-4867-84eb-8d1c099775ba",
   "metadata": {},
   "outputs": [
    {
     "name": "stdout",
     "output_type": "stream",
     "text": [
      "hasil split: ['javariau ', 'bintang']\n"
     ]
    }
   ],
   "source": [
    "string = \"javariau ,bintang\"\n",
    "hasil = string.split(\",\")\n",
    "print(\"hasil split:\",hasil)"
   ]
  },
  {
   "cell_type": "code",
   "execution_count": null,
   "id": "b490e28b-a7cb-48bd-ba31-8bbbe61f5602",
   "metadata": {},
   "outputs": [],
   "source": []
  }
 ],
 "metadata": {
  "kernelspec": {
   "display_name": "Python [conda env:base] *",
   "language": "python",
   "name": "conda-base-py"
  },
  "language_info": {
   "codemirror_mode": {
    "name": "ipython",
    "version": 3
   },
   "file_extension": ".py",
   "mimetype": "text/x-python",
   "name": "python",
   "nbconvert_exporter": "python",
   "pygments_lexer": "ipython3",
   "version": "3.12.7"
  }
 },
 "nbformat": 4,
 "nbformat_minor": 5
}
