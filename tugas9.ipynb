{
 "cells": [
  {
   "cell_type": "code",
   "execution_count": 2,
   "id": "6d8c5382-066b-422c-abe2-bd1dcee06b08",
   "metadata": {},
   "outputs": [],
   "source": [
    "import numpy as np\n",
    "import pandas as pd"
   ]
  },
  {
   "cell_type": "code",
   "execution_count": 3,
   "id": "4e5173f9-a76b-4c8d-a886-4203133b83a4",
   "metadata": {},
   "outputs": [],
   "source": [
    "n_data = 10000\n",
    "\n",
    "usia = np.random.randint(18,61,size=n_data)\n",
    "status_menikah = np.random.randint(0,2,size=n_data)\n",
    "transportasi = np.random.choice(['Motor','Mobil'],size=n_data)\n",
    "teknologi = np.random.choice(['Handphone','Komputer'],size=n_data)\n",
    "sports = np.random.choice(['Basket','Sepak Bola'],size=n_data)\n",
    "musik = np.random.choice(['Pop','Hip-Hop'],size=n_data)\n",
    "edukasi = np.random.choice(['SMA','SMK'],size=n_data)\n",
    "hobi = np.random.choice(['Melukis','Memasak'],size=n_data)\n",
    "pekerjaan = np.random.choice(['Kantoran','Wirausahawan'],size=n_data)\n",
    "peliharaan = np.random.choice(['Kucing','Anjing'],size=n_data)\n",
    "\n",
    "df = pd.DataFrame({\n",
    "    'Usia' : usia,\n",
    "    'Status Menikah' : status_menikah,\n",
    "    'Transportasi' : transportasi,\n",
    "    'Teknologi' : teknologi,\n",
    "    'Sports' : sports,\n",
    "    'Musik' : musik,\n",
    "    'Edukasi' : edukasi,\n",
    "    'Hobi' : hobi,\n",
    "    'Pekerjaan' : pekerjaan,\n",
    "    'Peliharaan' : peliharaan\n",
    "})\n",
    "\n",
    "df.to_csv('Tugas9.csv',index=False)"
   ]
  },
  {
   "cell_type": "code",
   "execution_count": null,
   "id": "25b5a8b4-c10d-4dcc-9580-fb269f6cc2c9",
   "metadata": {},
   "outputs": [],
   "source": []
  }
 ],
 "metadata": {
  "kernelspec": {
   "display_name": "Python 3 (ipykernel)",
   "language": "python",
   "name": "python3"
  },
  "language_info": {
   "codemirror_mode": {
    "name": "ipython",
    "version": 3
   },
   "file_extension": ".py",
   "mimetype": "text/x-python",
   "name": "python",
   "nbconvert_exporter": "python",
   "pygments_lexer": "ipython3",
   "version": "3.12.9"
  }
 },
 "nbformat": 4,
 "nbformat_minor": 5
}
